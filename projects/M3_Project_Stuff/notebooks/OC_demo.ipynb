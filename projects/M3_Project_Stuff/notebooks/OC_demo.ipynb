{
 "cells": [
  {
   "cell_type": "code",
   "execution_count": 1,
   "id": "98a02778",
   "metadata": {
    "ExecuteTime": {
     "end_time": "2021-05-24T17:44:23.338758Z",
     "start_time": "2021-05-24T17:44:21.727352Z"
    }
   },
   "outputs": [
    {
     "name": "stderr",
     "output_type": "stream",
     "text": [
      "In /Users/jamessunseri/anaconda3/lib/python3.7/site-packages/matplotlib/mpl-data/stylelib/_classic_test.mplstyle: \n",
      "The text.latex.preview rcparam was deprecated in Matplotlib 3.3 and will be removed two minor releases later.\n",
      "In /Users/jamessunseri/anaconda3/lib/python3.7/site-packages/matplotlib/mpl-data/stylelib/_classic_test.mplstyle: \n",
      "The mathtext.fallback_to_cm rcparam was deprecated in Matplotlib 3.3 and will be removed two minor releases later.\n",
      "In /Users/jamessunseri/anaconda3/lib/python3.7/site-packages/matplotlib/mpl-data/stylelib/_classic_test.mplstyle: Support for setting the 'mathtext.fallback_to_cm' rcParam is deprecated since 3.3 and will be removed two minor releases later; use 'mathtext.fallback : 'cm' instead.\n",
      "In /Users/jamessunseri/anaconda3/lib/python3.7/site-packages/matplotlib/mpl-data/stylelib/_classic_test.mplstyle: \n",
      "The validate_bool_maybe_none function was deprecated in Matplotlib 3.3 and will be removed two minor releases later.\n",
      "In /Users/jamessunseri/anaconda3/lib/python3.7/site-packages/matplotlib/mpl-data/stylelib/_classic_test.mplstyle: \n",
      "The savefig.jpeg_quality rcparam was deprecated in Matplotlib 3.3 and will be removed two minor releases later.\n",
      "In /Users/jamessunseri/anaconda3/lib/python3.7/site-packages/matplotlib/mpl-data/stylelib/_classic_test.mplstyle: \n",
      "The keymap.all_axes rcparam was deprecated in Matplotlib 3.3 and will be removed two minor releases later.\n",
      "In /Users/jamessunseri/anaconda3/lib/python3.7/site-packages/matplotlib/mpl-data/stylelib/_classic_test.mplstyle: \n",
      "The animation.avconv_path rcparam was deprecated in Matplotlib 3.3 and will be removed two minor releases later.\n",
      "In /Users/jamessunseri/anaconda3/lib/python3.7/site-packages/matplotlib/mpl-data/stylelib/_classic_test.mplstyle: \n",
      "The animation.avconv_args rcparam was deprecated in Matplotlib 3.3 and will be removed two minor releases later.\n"
     ]
    },
    {
     "name": "stdout",
     "output_type": "stream",
     "text": [
      "--------------------------\n",
      "-    Welcome to PIPS!    -\n",
      "--------------------------\n",
      "Version: 0.3.0-alpha.6\n",
      "Authors: Y. Murakami, A. Savel, J. Sunseri, A. Hoffman\n",
      "--------------------------\n",
      "Download the latest version from: https://pypi.org/project/astroPIPS\n",
      "Report issues to: https://github.com/SterlingYM/astroPIPS\n",
      "Read the documentations at: https://PIPS.readthedocs.io\n",
      "--------------------------\n",
      "\n"
     ]
    }
   ],
   "source": [
    "import numpy as np\n",
    "import matplotlib.pyplot as plt\n",
    "import pandas as pd\n",
    "\n",
    "import PIPS\n",
    "from PIPS import OC\n",
    "PIPS.about()"
   ]
  },
  {
   "cell_type": "markdown",
   "id": "512e94b6",
   "metadata": {},
   "source": [
    "- Jurcsik: https://arxiv.org/pdf/1109.4525.pdf  https://academic.oup.com/mnras/article/419/3/2173/1065746\n",
    "- Corwin: https://iopscience.iop.org/article/10.1086/323918/fulltext/\n",
    "\n",
    "- O-C method: https://arxiv.org/pdf/astro-ph/0010005.pdf"
   ]
  },
  {
   "cell_type": "markdown",
   "id": "df1a67f6",
   "metadata": {},
   "source": [
    "# data"
   ]
  },
  {
   "cell_type": "code",
   "execution_count": 2,
   "id": "d2e336b5",
   "metadata": {
    "ExecuteTime": {
     "end_time": "2021-05-24T17:44:23.576045Z",
     "start_time": "2021-05-24T17:44:23.467676Z"
    }
   },
   "outputs": [
    {
     "data": {
      "text/html": [
       "<div>\n",
       "<style scoped>\n",
       "    .dataframe tbody tr th:only-of-type {\n",
       "        vertical-align: middle;\n",
       "    }\n",
       "\n",
       "    .dataframe tbody tr th {\n",
       "        vertical-align: top;\n",
       "    }\n",
       "\n",
       "    .dataframe thead th {\n",
       "        text-align: right;\n",
       "    }\n",
       "</style>\n",
       "<table border=\"1\" class=\"dataframe\">\n",
       "  <thead>\n",
       "    <tr style=\"text-align: right;\">\n",
       "      <th></th>\n",
       "      <th>name</th>\n",
       "      <th>JD</th>\n",
       "      <th>filter</th>\n",
       "      <th>mag</th>\n",
       "    </tr>\n",
       "  </thead>\n",
       "  <tbody>\n",
       "    <tr>\n",
       "      <th>0</th>\n",
       "      <td>v1</td>\n",
       "      <td>2448755.668</td>\n",
       "      <td>B</td>\n",
       "      <td>16.364</td>\n",
       "    </tr>\n",
       "    <tr>\n",
       "      <th>1</th>\n",
       "      <td>v1</td>\n",
       "      <td>2448755.683</td>\n",
       "      <td>B</td>\n",
       "      <td>16.429</td>\n",
       "    </tr>\n",
       "    <tr>\n",
       "      <th>2</th>\n",
       "      <td>v1</td>\n",
       "      <td>2448755.698</td>\n",
       "      <td>B</td>\n",
       "      <td>16.394</td>\n",
       "    </tr>\n",
       "    <tr>\n",
       "      <th>3</th>\n",
       "      <td>v1</td>\n",
       "      <td>2448755.714</td>\n",
       "      <td>B</td>\n",
       "      <td>16.162</td>\n",
       "    </tr>\n",
       "    <tr>\n",
       "      <th>4</th>\n",
       "      <td>v1</td>\n",
       "      <td>2448755.751</td>\n",
       "      <td>B</td>\n",
       "      <td>14.961</td>\n",
       "    </tr>\n",
       "  </tbody>\n",
       "</table>\n",
       "</div>"
      ],
      "text/plain": [
       "  name           JD filter     mag\n",
       "0   v1  2448755.668      B  16.364\n",
       "1   v1  2448755.683      B  16.429\n",
       "2   v1  2448755.698      B  16.394\n",
       "3   v1  2448755.714      B  16.162\n",
       "4   v1  2448755.751      B  14.961"
      ]
     },
     "execution_count": 2,
     "metadata": {},
     "output_type": "execute_result"
    }
   ],
   "source": [
    "corwin  = pd.read_csv('corwin.txt',delim_whitespace=True,skiprows=13)\n",
    "corwin.head()"
   ]
  },
  {
   "cell_type": "code",
   "execution_count": 3,
   "id": "47622988",
   "metadata": {
    "ExecuteTime": {
     "end_time": "2021-05-24T17:44:24.170446Z",
     "start_time": "2021-05-24T17:44:24.015357Z"
    }
   },
   "outputs": [
    {
     "data": {
      "text/html": [
       "<div>\n",
       "<style scoped>\n",
       "    .dataframe tbody tr th:only-of-type {\n",
       "        vertical-align: middle;\n",
       "    }\n",
       "\n",
       "    .dataframe tbody tr th {\n",
       "        vertical-align: top;\n",
       "    }\n",
       "\n",
       "    .dataframe thead th {\n",
       "        text-align: right;\n",
       "    }\n",
       "</style>\n",
       "<table border=\"1\" class=\"dataframe\">\n",
       "  <thead>\n",
       "    <tr style=\"text-align: right;\">\n",
       "      <th></th>\n",
       "      <th>#star</th>\n",
       "      <th>HJD-2400000</th>\n",
       "      <th>mag</th>\n",
       "      <th>band</th>\n",
       "      <th>source</th>\n",
       "    </tr>\n",
       "  </thead>\n",
       "  <tbody>\n",
       "    <tr>\n",
       "      <th>0</th>\n",
       "      <td>V001</td>\n",
       "      <td>38502.421</td>\n",
       "      <td>16.19</td>\n",
       "      <td>pg</td>\n",
       "      <td>B</td>\n",
       "    </tr>\n",
       "    <tr>\n",
       "      <th>1</th>\n",
       "      <td>V001</td>\n",
       "      <td>38502.438</td>\n",
       "      <td>15.97</td>\n",
       "      <td>pg</td>\n",
       "      <td>B</td>\n",
       "    </tr>\n",
       "    <tr>\n",
       "      <th>2</th>\n",
       "      <td>V001</td>\n",
       "      <td>38502.452</td>\n",
       "      <td>15.89</td>\n",
       "      <td>pg</td>\n",
       "      <td>B</td>\n",
       "    </tr>\n",
       "    <tr>\n",
       "      <th>3</th>\n",
       "      <td>V001</td>\n",
       "      <td>38502.468</td>\n",
       "      <td>15.26</td>\n",
       "      <td>pg</td>\n",
       "      <td>B</td>\n",
       "    </tr>\n",
       "    <tr>\n",
       "      <th>4</th>\n",
       "      <td>V001</td>\n",
       "      <td>38502.539</td>\n",
       "      <td>15.06</td>\n",
       "      <td>pg</td>\n",
       "      <td>B</td>\n",
       "    </tr>\n",
       "  </tbody>\n",
       "</table>\n",
       "</div>"
      ],
      "text/plain": [
       "  #star  HJD-2400000    mag band source\n",
       "0  V001    38502.421  16.19   pg      B\n",
       "1  V001    38502.438  15.97   pg      B\n",
       "2  V001    38502.452  15.89   pg      B\n",
       "3  V001    38502.468  15.26   pg      B\n",
       "4  V001    38502.539  15.06   pg      B"
      ]
     },
     "execution_count": 3,
     "metadata": {},
     "output_type": "execute_result"
    }
   ],
   "source": [
    "jurcsik = pd.read_csv('jurcsik.txt',delim_whitespace=True)\n",
    "jurcsik.head()"
   ]
  },
  {
   "cell_type": "markdown",
   "id": "51d6a140",
   "metadata": {},
   "source": [
    "# Initialize PIPS photdata for Jurcsik & KAIT datasets"
   ]
  },
  {
   "cell_type": "code",
   "execution_count": 5,
   "id": "b8ae1495",
   "metadata": {
    "ExecuteTime": {
     "end_time": "2021-05-24T17:44:24.811853Z",
     "start_time": "2021-05-24T17:44:24.773268Z"
    }
   },
   "outputs": [],
   "source": [
    "# Corwin data\n",
    "corwin_name = 'v6'\n",
    "band = 'V'\n",
    "\n",
    "cut = (corwin['name']==corwin_name) & (corwin['filter']==band)\n",
    "x = corwin[cut]['JD'].to_numpy() - 2400000\n",
    "y = corwin[cut]['mag'].to_numpy()\n",
    "yerr = 0.01 * np.ones_like(y)\n",
    "star_C01 = PIPS.photdata([x,y,yerr],label='Corwin')"
   ]
  },
  {
   "cell_type": "code",
   "execution_count": 6,
   "id": "16240c4e",
   "metadata": {
    "ExecuteTime": {
     "end_time": "2021-05-24T17:44:25.632770Z",
     "start_time": "2021-05-24T17:44:25.577651Z"
    }
   },
   "outputs": [],
   "source": [
    "# Jurcsik data\n",
    "jurcsik_name = 'V006'\n",
    "band = 'V'\n",
    "\n",
    "cut = (jurcsik['#star']==jurcsik_name) & (jurcsik['band']==band)\n",
    "x = jurcsik[cut]['HJD-2400000'].to_numpy()\n",
    "y = jurcsik[cut]['mag'].to_numpy()\n",
    "yerr = 0.01 * np.ones_like(y)\n",
    "star_J11 = PIPS.photdata([x,y,yerr],label='Jurcsik')"
   ]
  },
  {
   "cell_type": "code",
   "execution_count": 7,
   "id": "86ec0e40",
   "metadata": {
    "ExecuteTime": {
     "end_time": "2021-05-24T17:44:26.696046Z",
     "start_time": "2021-05-24T17:44:26.686621Z"
    }
   },
   "outputs": [],
   "source": [
    "# initialize PIPS photdata\n",
    "LPP_datafile = 'M3_Data/m3_V006.dat'\n",
    "band='V'\n",
    "\n",
    "data = PIPS.data_readin_LPP(LPP_datafile,filter=band)\n",
    "star_KAIT = PIPS.photdata(data,label='KAIT')\n",
    "star_KAIT.cut(yerr_max=0.05)"
   ]
  },
  {
   "cell_type": "markdown",
   "id": "b15aa7a5",
   "metadata": {},
   "source": [
    "# Use PIPS.OC module"
   ]
  },
  {
   "cell_type": "code",
   "execution_count": 8,
   "id": "2984b766",
   "metadata": {
    "ExecuteTime": {
     "end_time": "2021-05-24T17:44:36.938308Z",
     "start_time": "2021-05-24T17:44:27.899221Z"
    }
   },
   "outputs": [
    {
     "name": "stdout",
     "output_type": "stream",
     "text": [
      "warning: provided uncertainty may not be accurate. Try increasing sampling size (N_peak_test, default 500) and/or turn on the force_refine option.\n",
      "warning: error size infinity: replacing with periodogram peak width\n"
     ]
    },
    {
     "data": {
      "text/plain": [
       "<PIPS.OC.longdata at 0x7fb070895a90>"
      ]
     },
     "execution_count": 8,
     "metadata": {},
     "output_type": "execute_result"
    }
   ],
   "source": [
    "# initialize OC object\n",
    "photdata_list = [star_C01,star_J11,star_KAIT]\n",
    "oc = OC.longdata(photdata_list)\n",
    "\n",
    "# run OC!\n",
    "ref_v1 = 0.52061350\n",
    "ref_v6 = 0.51432675\n",
    "ref_v3 = 0.558204 \n",
    "oc.run_OC(p_ref=ref_v6,template_idx=0,Nterms=7,p_min=0.2,p_max=0.9)"
   ]
  },
  {
   "cell_type": "code",
   "execution_count": 9,
   "id": "090f6044",
   "metadata": {
    "ExecuteTime": {
     "end_time": "2021-05-24T17:44:38.820120Z",
     "start_time": "2021-05-24T17:44:38.233718Z"
    }
   },
   "outputs": [
    {
     "data": {
      "image/png": "[encoded data removed]",
      "text/plain": [
       "<Figure size 1152x720 with 1 Axes>"
      ]
     },
     "metadata": {},
     "output_type": "display_data"
    }
   ],
   "source": [
    "import matplotlib\n",
    "matplotlib.rcParams['mathtext.fontset'] = 'stix'\n",
    "matplotlib.rcParams['font.family'] = 'STIXGeneral'\n",
    "matplotlib.rcParams['font.size'] = 22\n",
    "plt.style.use(\"dark_background\")\n",
    "\n",
    "### Text Color ###\n",
    "for param in ['text.color', 'axes.labelcolor', 'xtick.color', 'ytick.color']:\n",
    "    plt.rcParams[param] = '1.0'  # white (value goes from 0 to 1)\n",
    "    \n",
    "### Figure Color ###\n",
    "for param in ['figure.facecolor', 'axes.facecolor', 'savefig.facecolor']:\n",
    "    plt.rcParams[param] = '#000630'  # Hex Color Code for Background Color\n",
    "colors = [\n",
    "    '#08F7FE',  # teal/cyan\n",
    "    '#FE53BB',  # pink\n",
    "    '#F5D300',  # yellow\n",
    "    '#00ff41',  # matrix green\n",
    "]\n",
    "\n",
    "\n",
    "\n",
    "oc.plot_lc(figsize=(16,12))\n",
    "plt.title(\"Folded Light Curves of V006\")\n",
    "plt.ylabel(\"Apparent Magnitude\")\n",
    "plt.xlabel(\"Phase\")\n",
    "plt.legend(loc='upper right', fontsize='x-small')\n",
    "plt.savefig('lightcurves_VOO6.png', format='png', dpi=300, bbox_inches='tight')\n",
    "plt.show()"
   ]
  },
  {
   "cell_type": "code",
   "execution_count": 9,
   "id": "536d62a2",
   "metadata": {
    "ExecuteTime": {
     "end_time": "2021-05-24T17:48:34.412432Z",
     "start_time": "2021-05-24T17:48:34.394202Z"
    }
   },
   "outputs": [
    {
     "name": "stdout",
     "output_type": "stream",
     "text": [
      "O-C: [-0.1484, -0.0656, 0.0202]\n",
      "err: [0.0003, 0.0002, 0.0012]\n",
      "MJD: [48984.9, 54929.3, 59327.3]\n",
      "p_ref: 0.514327\n",
      "Jurcsik - Corwin: 0.08283\n",
      "KAIT - Jurcsik: 0.08578\n"
     ]
    }
   ],
   "source": [
    "# outputs\n",
    "print('O-C:',[float(f'{val:.4f}') for val in oc.oc])      # O-C values\n",
    "print('err:',[float(f'{val:.4f}') for val in oc.oc_err])  # O-C uncertainties\n",
    "print('MJD:',[float(f'{val:.1f}') for val in oc.x_means]) # mean x-values\n",
    "print(f'p_ref: {oc.p_ref:.6f}')   # 'mean' period\n",
    "\n",
    "# check:\n",
    "# this value should agree with the offset in O-C values \n",
    "# between Jurcsik and Corwin.\n",
    "\n",
    "# correct for rounding ('round','floor','ceil',etc.)\n",
    "offset_JC = oc.oc[1]-oc.oc[0]\n",
    "if offset_JC > oc.p_ref/2:\n",
    "    offset_JC -= oc.p_ref\n",
    "elif offset_JC < -oc.p_ref/2:\n",
    "    offset_JC += oc.p_ref\n",
    "    \n",
    "print(f'Jurcsik - Corwin: {offset_JC:.5f}')\n",
    "\n",
    "# the result:\n",
    "# this is the OC-value offset between Jurcsik and KAIT!\n",
    "# (simply add this to Jurcsik's O-C value to get ours in the same frame)\n",
    "print(f'KAIT - Jurcsik: {oc.oc[2]-oc.oc[1]:.5f}') "
   ]
  },
  {
   "cell_type": "code",
   "execution_count": 10,
   "id": "46148894",
   "metadata": {
    "ExecuteTime": {
     "end_time": "2021-05-24T17:44:40.691425Z",
     "start_time": "2021-05-24T17:44:25.619Z"
    }
   },
   "outputs": [
    {
     "data": {
      "text/plain": [
       "0.26030675"
      ]
     },
     "execution_count": 10,
     "metadata": {},
     "output_type": "execute_result"
    }
   ],
   "source": [
    "0.52061350/2"
   ]
  },
  {
   "cell_type": "code",
   "execution_count": 11,
   "id": "a4037a67",
   "metadata": {
    "ExecuteTime": {
     "end_time": "2021-05-24T17:38:21.607123Z",
     "start_time": "2021-05-24T17:38:21.602090Z"
    }
   },
   "outputs": [
    {
     "data": {
      "text/plain": [
       "0.43778474346969953"
      ]
     },
     "execution_count": 11,
     "metadata": {},
     "output_type": "execute_result"
    }
   ],
   "source": [
    "0.52061350 - (oc.oc[1]-oc.oc[0])"
   ]
  },
  {
   "cell_type": "code",
   "execution_count": 12,
   "id": "01586f93",
   "metadata": {
    "ExecuteTime": {
     "end_time": "2021-05-24T17:50:55.779516Z",
     "start_time": "2021-05-24T17:50:55.771538Z"
    }
   },
   "outputs": [
    {
     "data": {
      "text/plain": [
       "-0.09999999999999998"
      ]
     },
     "execution_count": 12,
     "metadata": {},
     "output_type": "execute_result"
    }
   ],
   "source": [
    "period = 0.5\n",
    "Jurcsik_OC = 0.2\n",
    "offset = 0.2\n",
    "Jurcsik_OC + offset - period"
   ]
  },
  {
   "cell_type": "code",
   "execution_count": null,
   "id": "d5f3288f",
   "metadata": {},
   "outputs": [],
   "source": []
  }
 ],
 "metadata": {
  "kernelspec": {
   "display_name": "Python 3",
   "language": "python",
   "name": "python3"
  },
  "language_info": {
   "codemirror_mode": {
    "name": "ipython",
    "version": 3
   },
   "file_extension": ".py",
   "mimetype": "text/x-python",
   "name": "python",
   "nbconvert_exporter": "python",
   "pygments_lexer": "ipython3",
   "version": "3.7.3"
  },
  "varInspector": {
   "cols": {
    "lenName": 16,
    "lenType": 16,
    "lenVar": 40
   },
   "kernels_config": {
    "python": {
     "delete_cmd_postfix": "",
     "delete_cmd_prefix": "del ",
     "library": "var_list.py",
     "varRefreshCmd": "print(var_dic_list())"
    },
    "r": {
     "delete_cmd_postfix": ") ",
     "delete_cmd_prefix": "rm(",
     "library": "var_list.r",
     "varRefreshCmd": "cat(var_dic_list()) "
    }
   },
   "types_to_exclude": [
    "module",
    "function",
    "builtin_function_or_method",
    "instance",
    "_Feature"
   ],
   "window_display": false
  }
 },
 "nbformat": 4,
 "nbformat_minor": 5
}
