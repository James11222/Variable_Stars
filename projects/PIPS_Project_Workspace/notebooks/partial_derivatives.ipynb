{
 "cells": [
  {
   "cell_type": "code",
   "execution_count": 1,
   "id": "graduate-church",
   "metadata": {},
   "outputs": [],
   "source": [
    "import numpy as np\n",
    "\n",
    "def partial_derivative(func, par, dpar, log_flag, decimals=3):\n",
    "    \"\"\"\n",
    "    Numerically compute the partial derivatives of a function\n",
    "    \n",
    "    Args:\n",
    "        - func is the function you want to input\n",
    "        - par is a list of values for the parameters to be held at\n",
    "        - dpar is the step size taken for that derivative step with respect\n",
    "        to its coresponding variable in par\n",
    "        - log_flag just a flag to take a log derivative instead\n",
    "        - decimals is the number of decimals you would like to round to\n",
    "    \n",
    "    Returns:\n",
    "        An array is constructed where the each row corresponds to the values of the\n",
    "        derivative with respect to a specific variable so \n",
    "        ([dfunc_dM ......................],\n",
    "        [dfunc_dphi .....................],\n",
    "        [dfunc_dt .......................],\n",
    "        [dfunc_dR .......................])\n",
    "    \"\"\"\n",
    "    nDofs=len(par) #number of parameters\n",
    "    dfunc=np.zeros((nDofs)) \n",
    "    for i in range(nDofs):\n",
    "        #calculate \n",
    "        par_upper = par.copy()\n",
    "        par_upper[i] += dpar[i]\n",
    "        func_upper = func(par_upper)\n",
    "        \n",
    "        par_lower = par.copy()\n",
    "        par_lower[i] -= dpar[i]\n",
    "        func_lower = func(par_lower)\n",
    "        \n",
    "        dfunc[i] = (func_upper - func_lower) / (2*dpar[i])\n",
    "        \n",
    "        if log_flag[i]:\n",
    "            dfunc[i] *= par[i]\n",
    "        \n",
    "                   \n",
    "    return np.round(dfunc, decimals)\n",
    "                   \n",
    "    \n",
    "def error_prop(func, par, dpar,log_flag, errors = None):\n",
    "    \"\"\"\n",
    "    A simple function that error propogates by adding the \n",
    "    partial derivative of a function weighted by its corresponding\n",
    "    parameter's error in quadrature. \n",
    "    \"\"\"\n",
    "    if errors is None:\n",
    "        errors = np.zeros((len(par)))\n",
    "        \n",
    "    error_f = np.sqrt(np.sum((partial_derivative(func, par, dpar, log_flag) * errors)**2))\n",
    "    return error_f\n",
    "                "
   ]
  },
  {
   "cell_type": "markdown",
   "id": "dedbda7d-eb88-4784-8bab-db764d14642d",
   "metadata": {},
   "source": [
    "## Application:"
   ]
  },
  {
   "cell_type": "code",
   "execution_count": 2,
   "id": "affiliated-sailing",
   "metadata": {},
   "outputs": [
    {
     "name": "stdout",
     "output_type": "stream",
     "text": [
      "The partial derivatives of test_f are:  [0. 1. 2. 3. 4.]\n",
      "The error on test_f, based on errors of input params is:  0.005477225575051661\n"
     ]
    }
   ],
   "source": [
    "######################################################################\n",
    "                   \n",
    "                   \n",
    "phi_21,phi_31,phi_41 = 0.5, 0.4,0.3\n",
    "A_0, A_1, A_2 = 1,2,3\n",
    "B_0, B_1, B_2 = 4,5,9\n",
    "                   \n",
    "\n",
    "######################################################################\n",
    "\"\"\"Defining Our Parameter arrays and their relevant errors\"\"\"\n",
    "par = np.array([ phi_21,  phi_31,    phi_41,      A_0,      A_1])\n",
    "dpar= np.array([ 1.e-9,    1.e-9,     1.e-9,      1.e-9,    1.e-9])\n",
    "log_flag=np.array([   0,     0,          0,         0,       0])\n",
    "label =        ['phi_21', 'phi_31',  'phi_41',    'A_0',   'A_1']\n",
    "                   \n",
    "#######################################################################\n",
    "\n",
    "\n",
    "def test_f(params):\n",
    "    value = 0\n",
    "    for i in range(len(params)):\n",
    "        value += params[i] * i\n",
    "    return value\n",
    "\n",
    "\n",
    "print(\"The partial derivatives of test_f are: \", partial_derivative(test_f, par, dpar, log_flag))\n",
    "\n",
    "print(\"The error on test_f, based on errors of input params is: \", error_prop(test_f, par, dpar, log_flag, errors=dpar*1e6))"
   ]
  },
  {
   "cell_type": "code",
   "execution_count": null,
   "id": "biological-score",
   "metadata": {},
   "outputs": [],
   "source": []
  }
 ],
 "metadata": {
  "kernelspec": {
   "display_name": "Python 3 (ipykernel)",
   "language": "python",
   "name": "python3"
  },
  "language_info": {
   "codemirror_mode": {
    "name": "ipython",
    "version": 3
   },
   "file_extension": ".py",
   "mimetype": "text/x-python",
   "name": "python",
   "nbconvert_exporter": "python",
   "pygments_lexer": "ipython3",
   "version": "3.7.3"
  }
 },
 "nbformat": 4,
 "nbformat_minor": 5
}
