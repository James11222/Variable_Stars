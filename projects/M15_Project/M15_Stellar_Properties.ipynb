{
 "cells": [
  {
   "cell_type": "code",
   "execution_count": 1,
   "metadata": {},
   "outputs": [],
   "source": [
    "import numpy as np\n",
    "import matplotlib.pyplot as plt\n",
    "import pandas as pd\n",
    "import PIPS\n",
    "%matplotlib inline\n",
    "plt.rcParams['mathtext.fontset'],plt.rcParams['font.family'] = 'stix', 'STIXGeneral'\n",
    "plt.rcParams.update({'font.size': 14})"
   ]
  },
  {
   "cell_type": "code",
   "execution_count": 2,
   "metadata": {},
   "outputs": [],
   "source": [
    "summary = pd.read_csv(f'summary_ver13.csv')#.set_index('id').sort_values(by='id')"
   ]
  },
  {
   "cell_type": "code",
   "execution_count": 3,
   "metadata": {},
   "outputs": [
    {
     "data": {
      "text/plain": [
       "Index(['id', 'M15_1_Ndata', 'M15_1_amplitude', 'M15_1_chi2/N',\n",
       "       'M15_1_data_avg_err', 'M15_1_dec', 'M15_1_dist', 'M15_1_fname',\n",
       "       'M15_1_period', 'M15_1_period_err', 'M15_1_ra', 'M15_2_Ndata',\n",
       "       'M15_2_amplitude', 'M15_2_chi2/N', 'M15_2_data_avg_err', 'M15_2_dec',\n",
       "       'M15_2_dist', 'M15_2_fname', 'M15_2_period', 'M15_2_period_err',\n",
       "       'M15_2_ra', 'M15_3_Ndata', 'M15_3_amplitude', 'M15_3_chi2/N',\n",
       "       'M15_3_data_avg_err', 'M15_3_dec', 'M15_3_dist', 'M15_3_fname',\n",
       "       'M15_3_period', 'M15_3_period_err', 'M15_3_ra', 'M15_4_Ndata',\n",
       "       'M15_4_amplitude', 'M15_4_chi2/N', 'M15_4_data_avg_err', 'M15_4_dec',\n",
       "       'M15_4_dist', 'M15_4_fname', 'M15_4_period', 'M15_4_period_err',\n",
       "       'M15_4_ra', 'period', 'period_err', 'amplitude', 'N_data', 'chi2/N',\n",
       "       'data_mag_mean_err', 'dist_to_GCVS_deg', 'field', 'pick_method',\n",
       "       'H&M_id', 'ra', 'dec', 'p_corwin', 'p_silbermann', 'p_ferro',\n",
       "       'p_siegel', 'priors_mag_upper', 'priors_mag_lower',\n",
       "       'priors_period_guess', 'p1', 'p2', 'p_bailey', 'p_wemple',\n",
       "       'p_filippenko', 'p_hogg', 'confidences', 'err_cut', 'periors_mag_lower',\n",
       "       'mean_mag', 'type', 'pf', 'A1', 'Af'],\n",
       "      dtype='object')"
      ]
     },
     "execution_count": 3,
     "metadata": {},
     "output_type": "execute_result"
    }
   ],
   "source": [
    "summary.columns"
   ]
  },
  {
   "cell_type": "code",
   "execution_count": 4,
   "metadata": {},
   "outputs": [
    {
     "data": {
      "text/html": [
       "<div>\n",
       "<style scoped>\n",
       "    .dataframe tbody tr th:only-of-type {\n",
       "        vertical-align: middle;\n",
       "    }\n",
       "\n",
       "    .dataframe tbody tr th {\n",
       "        vertical-align: top;\n",
       "    }\n",
       "\n",
       "    .dataframe thead th {\n",
       "        text-align: right;\n",
       "    }\n",
       "</style>\n",
       "<table border=\"1\" class=\"dataframe\">\n",
       "  <thead>\n",
       "    <tr style=\"text-align: right;\">\n",
       "      <th></th>\n",
       "      <th>ra</th>\n",
       "      <th>dec</th>\n",
       "      <th>period</th>\n",
       "      <th>period_err</th>\n",
       "      <th>amplitude</th>\n",
       "      <th>mean_mag</th>\n",
       "      <th>type</th>\n",
       "    </tr>\n",
       "  </thead>\n",
       "  <tbody>\n",
       "    <tr>\n",
       "      <th>0</th>\n",
       "      <td>322.458958</td>\n",
       "      <td>12.173970</td>\n",
       "      <td>1.437837</td>\n",
       "      <td>3.661651e-07</td>\n",
       "      <td>1.071</td>\n",
       "      <td>14.987350</td>\n",
       "      <td>Cepheid</td>\n",
       "    </tr>\n",
       "    <tr>\n",
       "      <th>1</th>\n",
       "      <td>322.443774</td>\n",
       "      <td>12.168692</td>\n",
       "      <td>0.684304</td>\n",
       "      <td>1.601163e-07</td>\n",
       "      <td>0.488</td>\n",
       "      <td>15.741276</td>\n",
       "      <td>RRab</td>\n",
       "    </tr>\n",
       "    <tr>\n",
       "      <th>2</th>\n",
       "      <td>322.422192</td>\n",
       "      <td>12.153865</td>\n",
       "      <td>0.388721</td>\n",
       "      <td>8.549906e-06</td>\n",
       "      <td>0.484</td>\n",
       "      <td>15.828362</td>\n",
       "      <td>RRc</td>\n",
       "    </tr>\n",
       "    <tr>\n",
       "      <th>3</th>\n",
       "      <td>322.460962</td>\n",
       "      <td>12.121596</td>\n",
       "      <td>0.313589</td>\n",
       "      <td>2.414403e-08</td>\n",
       "      <td>0.626</td>\n",
       "      <td>15.919276</td>\n",
       "      <td>RRc</td>\n",
       "    </tr>\n",
       "    <tr>\n",
       "      <th>4</th>\n",
       "      <td>322.464627</td>\n",
       "      <td>12.108085</td>\n",
       "      <td>0.384212</td>\n",
       "      <td>7.214155e-08</td>\n",
       "      <td>0.536</td>\n",
       "      <td>15.783994</td>\n",
       "      <td>RRc</td>\n",
       "    </tr>\n",
       "    <tr>\n",
       "      <th>...</th>\n",
       "      <td>...</td>\n",
       "      <td>...</td>\n",
       "      <td>...</td>\n",
       "      <td>...</td>\n",
       "      <td>...</td>\n",
       "      <td>...</td>\n",
       "      <td>...</td>\n",
       "    </tr>\n",
       "    <tr>\n",
       "      <th>164</th>\n",
       "      <td>322.494954</td>\n",
       "      <td>12.171465</td>\n",
       "      <td>1.043201</td>\n",
       "      <td>1.134967e-05</td>\n",
       "      <td>0.298</td>\n",
       "      <td>13.148673</td>\n",
       "      <td>??</td>\n",
       "    </tr>\n",
       "    <tr>\n",
       "      <th>165</th>\n",
       "      <td>NaN</td>\n",
       "      <td>NaN</td>\n",
       "      <td>NaN</td>\n",
       "      <td>NaN</td>\n",
       "      <td>NaN</td>\n",
       "      <td>NaN</td>\n",
       "      <td>NaN</td>\n",
       "    </tr>\n",
       "    <tr>\n",
       "      <th>166</th>\n",
       "      <td>322.491594</td>\n",
       "      <td>12.170759</td>\n",
       "      <td>0.864274</td>\n",
       "      <td>3.178918e-07</td>\n",
       "      <td>0.396</td>\n",
       "      <td>13.001821</td>\n",
       "      <td>??</td>\n",
       "    </tr>\n",
       "    <tr>\n",
       "      <th>167</th>\n",
       "      <td>322.490656</td>\n",
       "      <td>12.169706</td>\n",
       "      <td>0.911891</td>\n",
       "      <td>2.661795e-07</td>\n",
       "      <td>0.426</td>\n",
       "      <td>14.773248</td>\n",
       "      <td>Cepheid</td>\n",
       "    </tr>\n",
       "    <tr>\n",
       "      <th>168</th>\n",
       "      <td>322.467559</td>\n",
       "      <td>12.103084</td>\n",
       "      <td>0.118083</td>\n",
       "      <td>9.705817e-09</td>\n",
       "      <td>0.677</td>\n",
       "      <td>19.970945</td>\n",
       "      <td>??</td>\n",
       "    </tr>\n",
       "  </tbody>\n",
       "</table>\n",
       "<p>169 rows × 7 columns</p>\n",
       "</div>"
      ],
      "text/plain": [
       "             ra        dec    period    period_err  amplitude   mean_mag  \\\n",
       "0    322.458958  12.173970  1.437837  3.661651e-07      1.071  14.987350   \n",
       "1    322.443774  12.168692  0.684304  1.601163e-07      0.488  15.741276   \n",
       "2    322.422192  12.153865  0.388721  8.549906e-06      0.484  15.828362   \n",
       "3    322.460962  12.121596  0.313589  2.414403e-08      0.626  15.919276   \n",
       "4    322.464627  12.108085  0.384212  7.214155e-08      0.536  15.783994   \n",
       "..          ...        ...       ...           ...        ...        ...   \n",
       "164  322.494954  12.171465  1.043201  1.134967e-05      0.298  13.148673   \n",
       "165         NaN        NaN       NaN           NaN        NaN        NaN   \n",
       "166  322.491594  12.170759  0.864274  3.178918e-07      0.396  13.001821   \n",
       "167  322.490656  12.169706  0.911891  2.661795e-07      0.426  14.773248   \n",
       "168  322.467559  12.103084  0.118083  9.705817e-09      0.677  19.970945   \n",
       "\n",
       "        type  \n",
       "0    Cepheid  \n",
       "1       RRab  \n",
       "2        RRc  \n",
       "3        RRc  \n",
       "4        RRc  \n",
       "..       ...  \n",
       "164       ??  \n",
       "165      NaN  \n",
       "166       ??  \n",
       "167  Cepheid  \n",
       "168       ??  \n",
       "\n",
       "[169 rows x 7 columns]"
      ]
     },
     "execution_count": 4,
     "metadata": {},
     "output_type": "execute_result"
    }
   ],
   "source": [
    "summary[['ra','dec','period','period_err','amplitude','mean_mag','type']]"
   ]
  },
  {
   "cell_type": "code",
   "execution_count": 5,
   "metadata": {},
   "outputs": [
    {
     "name": "stdout",
     "output_type": "stream",
     "text": [
      "['V002', 'V006', 'V008', 'V009', 'V012', 'V013', 'V015', 'V019', 'V020', 'V021', 'V022', 'V023', 'V025', 'V029', 'V032', 'V033', 'V035', 'V036', 'V044', 'V045', 'V046', 'V047', 'V049', 'V052', 'V055', 'V056', 'V060', 'V063', 'V065', 'V069', 'V072', 'V078', 'V097', 'V102', 'V103', 'V123']\n"
     ]
    }
   ],
   "source": [
    "summary['type']\n",
    "RRab_star_names = []\n",
    "\n",
    "for i in range(len(summary['type'])):\n",
    "    if summary['type'][i] == 'RRab':\n",
    "        RRab_star_names.append(summary['id'][i])\n",
    "        \n",
    "        \n",
    "print(RRab_star_names)\n",
    "\n",
    "\n"
   ]
  },
  {
   "cell_type": "code",
   "execution_count": 6,
   "metadata": {},
   "outputs": [],
   "source": [
    "summary = pd.read_csv(f'summary_ver13.csv').set_index('id').sort_values(by='id')\n",
    "\n",
    "# def getdata_filtered(name):\n",
    "#     path = summary.loc[name,'field']+'/summary/'+summary.loc[name,'H&M_id'][-3:]+'.dat'\n",
    "#     period = summary.loc[name]['period']\n",
    "#     data_V = PIPS.data_readin_LPP(path,filter='V')\n",
    "#     data_B = PIPS.data_readin_LPP(path,filter='B')\n",
    "    \n",
    "#     # B-V estimate: mean difference of B-band against the nearest available V-band observations\n",
    "#     B_V = np.mean([(data_B[1][i]-data_V[1][abs(data_V[0]-data_B[0][i]).argmin()]) for i in range(len(data_B[1]))])\n",
    "                   \n",
    "#     # prepare to cut bad datapoints\n",
    "#     err_threshold = None if np.isnan(summary.loc[name,'err_cut']) else summary.loc[name,'err_cut']\n",
    "#     mag_upper = None if np.isnan(summary.loc[name]['priors_mag_upper']) else summary.loc[name]['priors_mag_upper']\n",
    "#     mag_lower = None if np.isnan(summary.loc[name]['priors_mag_lower']) else summary.loc[name]['priors_mag_lower']\n",
    "\n",
    "#     # construct PIPS photdata object\n",
    "#     original = PIPS.photdata(data_V)\n",
    "#     original.err_cut_threshold = err_threshold\n",
    "#     filtered = original.phot_err_cut().phot_mag_cut(mag_upper,mag_lower)\n",
    "#     filtered.period = period\n",
    "#     filtered.label = name\n",
    "#     filtered.B_V = B_V\n",
    "    \n",
    "#     # characteristic intrinsic scatter: see section 2.2.2 in our paper\n",
    "#     new_yerr = []\n",
    "#     for i in filtered.yerr:\n",
    "#         new_yerr.append(0.03 if i<0.03 else i)\n",
    "#     filtered.yerr = np.array(new_yerr)\n",
    "#     filtered.mag_err = filtered.yerr\n",
    "        \n",
    "#     return filtered\n",
    "\n",
    "def getdata_filtered(name):\n",
    "    path = summary.loc[name,'field']+'/summary/'+summary.loc[name,'H&M_id'][-3:]+'.dat'\n",
    "    period = summary.loc[name]['period']\n",
    "    data_V = PIPS.data_readin_LPP(path,filter='V')\n",
    "    data_B = PIPS.data_readin_LPP(path,filter='B')\n",
    "    \n",
    "    # B-V estimate: mean difference of B-band against the nearest available V-band observations\n",
    "    B_V = np.mean([(data_B[1][i]-data_V[1][abs(data_V[0]-data_B[0][i]).argmin()]) for i in range(len(data_B[1]))])\n",
    "                   \n",
    "    # prepare to cut bad datapoints\n",
    "    err_threshold = None if np.isnan(summary.loc[name,'err_cut']) else summary.loc[name,'err_cut']\n",
    "    mag_upper = None if np.isnan(summary.loc[name]['priors_mag_upper']) else summary.loc[name]['priors_mag_upper']\n",
    "    mag_lower = None if np.isnan(summary.loc[name]['priors_mag_lower']) else summary.loc[name]['priors_mag_lower']\n",
    "\n",
    "    # construct PIPS photdata object\n",
    "    original = PIPS.photdata(data_V)\n",
    "    original.err_cut_threshold = err_threshold\n",
    "    filtered = original.phot_err_cut().phot_mag_cut(mag_upper,mag_lower)\n",
    "    filtered.period = period\n",
    "    filtered.label = name\n",
    "    filtered.B_V = B_V\n",
    "    filtered.N_B = len(data_B[1])\n",
    "    filtered.get_epoch();\n",
    "    # characteristic intrinsic scatter: see section 2.2.2 in our paper\n",
    "    new_yerr = []\n",
    "    for i in filtered.yerr:\n",
    "        new_yerr.append(0.03 if i<0.03 else i)\n",
    "    filtered.yerr = np.array(new_yerr)\n",
    "    filtered.mag_err = filtered.yerr\n",
    "        \n",
    "    return filtered"
   ]
  },
  {
   "cell_type": "code",
   "execution_count": 27,
   "metadata": {},
   "outputs": [
    {
     "name": "stdout",
     "output_type": "stream",
     "text": [
      "[15.7312811  -0.20638732 -0.09701961 -0.04829988  0.03058456  0.55645494\n",
      "  0.20787119 -0.22368358  2.26801666]\n"
     ]
    },
    {
     "data": {
      "text/plain": [
       "<matplotlib.collections.PathCollection at 0x7fe7c7b49e10>"
      ]
     },
     "execution_count": 27,
     "metadata": {},
     "output_type": "execute_result"
    },
    {
     "data": {
      "image/png": "[encoded data removed]",
      "text/plain": [
       "<Figure size 432x288 with 1 Axes>"
      ]
     },
     "metadata": {
      "needs_background": "light"
     },
     "output_type": "display_data"
    }
   ],
   "source": [
    "phot_obj = getdata_filtered('V002')\n",
    "\n",
    "# popt = phot_obj.get_best_fit_at_p(phot_obj.period)\n",
    "# x_th = np.linspace(0,phot_obj.period,1000)\n",
    "# y_th = phot_obj.fourier_composition(x_th,2*np.pi/phot_obj.period,*popt)\n",
    "# max_th = x_th[y_th==y_th.min()]\n",
    "# phot_obj.x = phot_obj.x - max_th\n",
    "# phot_obj.t = phot_obj.t - max_th\n",
    "c_phi_list = phot_obj.alternate_get_best_fit_at_p(phot_obj.period)\n",
    "\n",
    "print(c_phi_list)\n",
    "\n",
    "\n",
    "y_new = phot_obj.alternate_fourier_composition(phot_obj.x%phot_obj.period, 2*np.pi/phot_obj.period, *c_phi_list)\n",
    "\n",
    "plt.scatter(phot_obj.x%phot_obj.period, y_new, marker='.',color='k')\n",
    "plt.scatter(phot_obj.x%phot_obj.period - np.pi/2, y_new, marker='.', color='k')"
   ]
  },
  {
   "cell_type": "code",
   "execution_count": 28,
   "metadata": {},
   "outputs": [
    {
     "name": "stdout",
     "output_type": "stream",
     "text": [
      "[15.7312811  -0.20638732 -0.09701961 -0.04829988  0.03058456  0.55645494\n",
      "  0.20787119 -0.22368358  2.26801666]\n",
      "[15.7312811   0.20638732  0.09701961  0.04829988  0.03058456  3.6980476\n",
      "  3.34946384  2.91790907  2.26801666]\n"
     ]
    }
   ],
   "source": [
    "K = 4\n",
    "print(c_phi_list)\n",
    "for i in range(K):\n",
    "    if c_phi_list[i+1]<0:\n",
    "        c_phi_list[i+K+1] += np.pi\n",
    "        c_phi_list[i+1] *= -1\n",
    "    c_phi_list[i+5] = c_phi_list[i+5]%(2*np.pi)\n",
    "    \n",
    "print(c_phi_list)\n",
    "phi_21 = (c_phi_list[6] - 2*c_phi_list[5])%(2*np.pi)\n",
    "phi_31 = (c_phi_list[7] - 3*c_phi_list[5])%(2*np.pi)\n",
    "phi_41 = (c_phi_list[8] - 4*c_phi_list[5])%(2*np.pi)"
   ]
  },
  {
   "cell_type": "code",
   "execution_count": 17,
   "metadata": {},
   "outputs": [
    {
     "name": "stdout",
     "output_type": "stream",
     "text": [
      "2.2365539568088693\n",
      "4.390136894246615\n",
      "0.04219688682387357\n"
     ]
    }
   ],
   "source": [
    "print(phi_21)\n",
    "print(phi_31)\n",
    "print(phi_41)"
   ]
  },
  {
   "cell_type": "code",
   "execution_count": null,
   "metadata": {},
   "outputs": [],
   "source": [
    "Fe_H(phot_obj.period,phi31)"
   ]
  },
  {
   "cell_type": "code",
   "execution_count": null,
   "metadata": {},
   "outputs": [],
   "source": [
    "phot_obj.Stellar_Properties_ab()"
   ]
  },
  {
   "cell_type": "code",
   "execution_count": null,
   "metadata": {},
   "outputs": [],
   "source": [
    "metal_data, log_T_eff_data, M_v_data, log_L_data, mass_data, log_g_data = [],[],[],[],[],[]\n",
    "\n",
    "C_1,C_2,C_3,C_4 = [],[],[],[]\n",
    "phi_21, phi_31, phi_41 = [],[],[]\n",
    "\n",
    "for i in range(len(RRab_star_names)):\n",
    "    phot_obj_i = getdata_filtered(RRab_star_names[i])\n",
    "    \n",
    "    # Phase offset by fitted curve\n",
    "#     popt = phot_obj_i.get_best_fit_at_p(phot_obj_i.period)\n",
    "#     x_th = np.linspace(0,phot_obj_i.period,1000)\n",
    "#     y_th = phot_obj_i.fourier_composition(x_th,2*np.pi/phot_obj_i.period,*popt)\n",
    "#     max_th = x_th[y_th==y_th.min()]\n",
    "#     phot_obj_i.x = phot_obj_i.x - max_th\n",
    "#     phot_obj_i.t = phot_obj_i.t - max_th\n",
    "    \n",
    "    # Phase offset by data\n",
    "    max_data = phot_obj.x[phot_obj.y==phot_obj.y.min()]%phot_obj.period\n",
    "    phot_obj_i.x = phot_obj_i.x - max_data\n",
    "    phot_obj_i.t = phot_obj_i.t - max_data\n",
    "    \n",
    "    \n",
    "    values, parameters = phot_obj_i.Stellar_Properties_ab()\n",
    "    metal_data.append(values[0])\n",
    "    log_T_eff_data.append(values[1])\n",
    "    M_v_data.append(values[2])\n",
    "    log_L_data.append(values[3])\n",
    "    mass_data.append(values[4])\n",
    "    log_g_data.append(values[5])\n",
    "    C_1.append(parameters[0])\n",
    "    C_2.append(parameters[1])\n",
    "    C_3.append(parameters[2])\n",
    "    C_4.append(parameters[3])\n",
    "    phi_21.append(parameters[4])\n",
    "    phi_31.append(parameters[5])\n",
    "    phi_41.append(parameters[6])\n",
    "    \n",
    "    \n",
    "    \n",
    "stellar_properties_dict = {'id':RRab_star_names, '$\\\\textrm{[Fe/H]}$':metal_data, '$\\\\log T_{eff}$': log_T_eff_data, '$M_v$':M_v_data,\n",
    "                          '$\\\\log L$':log_L_data, '$M_\\odot$':mass_data, '$\\\\log g$':log_g_data}\n",
    "\n",
    "fourier_parameters_dict = {'id': RRab_star_names, '$C_1$':C_1,'$C_2$':C_2,'$C_3$':C_3, '$C_4$':C_4,\n",
    "                          '$\\\\phi_{21} (V)$':phi_21,'$\\\\phi_{31} (V)$':phi_31,'$\\\\phi_{41} (V)$':phi_41}\n"
   ]
  },
  {
   "cell_type": "code",
   "execution_count": null,
   "metadata": {},
   "outputs": [],
   "source": [
    "Stellar_Properties_AB_Stars = pd.DataFrame(stellar_properties_dict).set_index('id').sort_values(by='id')\n",
    "Fourier_Parameters_AB_Stars = pd.DataFrame(fourier_parameters_dict).set_index('id').sort_values(by='id')"
   ]
  },
  {
   "cell_type": "code",
   "execution_count": null,
   "metadata": {},
   "outputs": [],
   "source": [
    "Stellar_Properties_AB_Stars"
   ]
  },
  {
   "cell_type": "code",
   "execution_count": null,
   "metadata": {},
   "outputs": [],
   "source": [
    "Fourier_Parameters_AB_Stars"
   ]
  },
  {
   "cell_type": "code",
   "execution_count": null,
   "metadata": {},
   "outputs": [],
   "source": []
  },
  {
   "cell_type": "code",
   "execution_count": null,
   "metadata": {},
   "outputs": [],
   "source": [
    "plt.figure(figsize=(12,8))\n",
    "plt.title(\"Metallicity vs. Temperature\",fontsize=22)\n",
    "plt.ylabel(\"[Fe/H]\",fontsize=22)\n",
    "plt.xlabel(\"$\\\\log T_{eff}$\",fontsize=22)\n",
    "plt.plot(Stellar_Properties_AB_Stars['$\\\\log T_{eff}$'],Stellar_Properties_AB_Stars['$\\\\textrm{[Fe/H]}$'], 'ko' )\n",
    "plt.grid()\n",
    "plt.show()"
   ]
  },
  {
   "cell_type": "code",
   "execution_count": null,
   "metadata": {},
   "outputs": [],
   "source": [
    "data_Cacciari = pd.read_csv('Table_12.text', delim_whitespace=True).set_index('ID')\n",
    "data_Cacciari_fourier = pd.read_csv('Table_9.text', delim_whitespace=True).set_index('ID')"
   ]
  },
  {
   "cell_type": "code",
   "execution_count": null,
   "metadata": {},
   "outputs": [],
   "source": [
    "data_Cacciari"
   ]
  },
  {
   "cell_type": "code",
   "execution_count": null,
   "metadata": {},
   "outputs": [],
   "source": [
    "plt.plot(data_Cacciari['log_T(B-V)'], data_Cacciari['[Fe/H]'], 'ko')"
   ]
  },
  {
   "cell_type": "code",
   "execution_count": null,
   "metadata": {},
   "outputs": [],
   "source": [
    "data_Cacciari_fourier"
   ]
  },
  {
   "cell_type": "code",
   "execution_count": null,
   "metadata": {},
   "outputs": [],
   "source": [
    "def Fe_H(period, phi): \n",
    "    phi_s = phi + 0.151 + np.pi\n",
    "    return -5.241 - 5.394*period + 1.345*phi_s \n",
    "\n",
    "\n",
    "Fe_H(0.5205959,data_Cacciari_fourier['phi_31'][1])"
   ]
  },
  {
   "cell_type": "code",
   "execution_count": null,
   "metadata": {},
   "outputs": [],
   "source": []
  }
 ],
 "metadata": {
  "kernelspec": {
   "display_name": "Python 3",
   "language": "python",
   "name": "python3"
  },
  "language_info": {
   "codemirror_mode": {
    "name": "ipython",
    "version": 3
   },
   "file_extension": ".py",
   "mimetype": "text/x-python",
   "name": "python",
   "nbconvert_exporter": "python",
   "pygments_lexer": "ipython3",
   "version": "3.7.3"
  }
 },
 "nbformat": 4,
 "nbformat_minor": 4
}
